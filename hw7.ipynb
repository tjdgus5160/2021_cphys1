{
 "cells": [
  {
   "cell_type": "code",
   "execution_count": 1,
   "metadata": {},
   "outputs": [],
   "source": [
    "%matplotlib inline\n",
    "import matplotlib.pyplot as plt\n",
    "import numpy as np"
   ]
  },
  {
   "cell_type": "code",
   "execution_count": 13,
   "metadata": {},
   "outputs": [
    {
     "data": {
      "text/plain": [
       "((array([ 1., -1.]),\n",
       "  array([[ 0.70710678, -0.70710678],\n",
       "         [ 0.70710678,  0.70710678]])),\n",
       " (array([ 1.+0.j, -1.+0.j]),\n",
       "  array([[-0.        -0.70710678j,  0.70710678+0.j        ],\n",
       "         [ 0.70710678+0.j        ,  0.        -0.70710678j]])),\n",
       " (array([ 1., -1.]),\n",
       "  array([[1., 0.],\n",
       "         [0., 1.]])))"
      ]
     },
     "execution_count": 13,
     "metadata": {},
     "output_type": "execute_result"
    }
   ],
   "source": [
    "sx = np.array([[0,1], [1,0]])\n",
    "eigenvector_sx = np.linalg.eig(sx)\n",
    "\n",
    "a = 0+1j\n",
    "sy = np.array([[0,-a], [a,0]])\n",
    "eigenvector_sy = np.linalg.eig(sy)\n",
    "\n",
    "sz = np.array([[1,0], [0,-1]])\n",
    "eigenvector_sz = np.linalg.eig(sz)\n",
    "\n",
    "eigenvector_sx, eigenvector_sy, eigenvector_sz"
   ]
  },
  {
   "cell_type": "code",
   "execution_count": 24,
   "metadata": {},
   "outputs": [],
   "source": []
  },
  {
   "cell_type": "code",
   "execution_count": 22,
   "metadata": {},
   "outputs": [
    {
     "data": {
      "text/plain": [
       "(array([3., 1.]),\n",
       " array([[ 0.70710678,  0.70710678],\n",
       "        [-0.70710678,  0.70710678]]))"
      ]
     },
     "execution_count": 22,
     "metadata": {},
     "output_type": "execute_result"
    }
   ],
   "source": [
    "A = np.array([[2,-1],[-1,2]])\n",
    "eigenvector_A = np.linalg.eig(A)\n",
    "\n",
    "eigenvector_A"
   ]
  },
  {
   "cell_type": "code",
   "execution_count": null,
   "metadata": {},
   "outputs": [],
   "source": [
    "([[2,-1],[-1,2]])의 eigenvalue를 구하면 lambda = 3, 1이 나오게 된다. \n",
    "이러한 eigenvalue값을 대입하여 eigenvector를 구하게 되면 \n",
    "lambda가 3일 때 v1 = ([1,-1]), \n",
    "lambda가 1일 때 v2 = ([1,1])가 나온다.\n",
    "v1은 같은 크기로 운동하지만 방향이 반대이고\n",
    "v2는 같은 크기로 운동하고 방향도 같다.\n",
    "eigenvector는 두 물체의 운동의 크기의 비와 운동하는 방향을 나타낸다."
   ]
  },
  {
   "cell_type": "code",
   "execution_count": null,
   "metadata": {},
   "outputs": [],
   "source": []
  }
 ],
 "metadata": {
  "kernelspec": {
   "display_name": "Python 3",
   "language": "python",
   "name": "python3"
  },
  "language_info": {
   "codemirror_mode": {
    "name": "ipython",
    "version": 3
   },
   "file_extension": ".py",
   "mimetype": "text/x-python",
   "name": "python",
   "nbconvert_exporter": "python",
   "pygments_lexer": "ipython3",
   "version": "3.8.5"
  }
 },
 "nbformat": 4,
 "nbformat_minor": 4
}
